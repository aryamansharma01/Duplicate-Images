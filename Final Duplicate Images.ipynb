{
 "cells": [
  {
   "cell_type": "code",
   "execution_count": 1,
   "metadata": {},
   "outputs": [],
   "source": [
    "#importing necessary libraries\n",
    "\n",
    "import cv2\n",
    "import os\n",
    "import numpy as np"
   ]
  },
  {
   "cell_type": "code",
   "execution_count": 2,
   "metadata": {},
   "outputs": [],
   "source": [
    "def dhash(image, hashSize=4):\n",
    "    image = cv2.cvtColor(image, cv2.COLOR_BGR2GRAY)\n",
    "    resized = cv2.resize(image, (hashSize, hashSize))\n",
    "    diff = resized[:, 1:] > resized[:, :-1]\n",
    "    return np.sum([2 ** i for (i, v) in enumerate(diff.flatten()) if v], dtype=np.unsignedinteger)\n",
    "\n",
    "def Repeat(x): \n",
    "    _size = len(x) \n",
    "    repeated = [] \n",
    "    for i in range(_size): \n",
    "        k = i + 1\n",
    "        for j in range(k, _size): \n",
    "            if x[i] == x[j] and x[i] not in repeated: \n",
    "                repeated.append(x[i]) \n",
    "    return repeated"
   ]
  },
  {
   "cell_type": "code",
   "execution_count": 3,
   "metadata": {},
   "outputs": [],
   "source": [
    "#making a list containing all the hashed image values\n",
    "\n",
    "imageHash=[]\n",
    "import glob\n",
    "\n",
    "#traversing through downloaded dataset and reading images, converting to grayscale and applying dhash function\n",
    "\n",
    "for file in glob.glob(r\"C:\\Users\\aryam\\aug_dogs\\c_dog*.jpg\"):\n",
    "    images=cv2.imread(file)\n",
    "    if images is None:\n",
    "        continue\n",
    "    imageHash.append(dhash(images))\n",
    "\n",
    "#for images which are rotated 90 degrees clockwise, we need to revert it back to the original state\n",
    "\n",
    "for file in glob.glob(r\"C:\\Users\\aryam\\aug_dogs\\dog*.jpg\"):\n",
    "    images=cv2.imread(file)\n",
    "    if images is None:\n",
    "        continue\n",
    "    imageHash.append(dhash(images))\n",
    "\n",
    "for file in glob.glob(r\"C:\\Users\\aryam\\aug_dogs\\rot@dog*.jpg\"):\n",
    "    images=cv2.imread(file)\n",
    "    if images is None:\n",
    "        continue\n",
    "    images= cv2.rotate(images, cv2.ROTATE_90_COUNTERCLOCKWISE)\n",
    "    imageHash.append(dhash(images))\n",
    "\n",
    "#for images which are upside down, we need to revert it back to the original state\n",
    "\n",
    "for file in glob.glob(r\"C:\\Users\\aryam\\aug_dogs\\f0@dog*.jpg\"):\n",
    "    images=cv2.imread(file)\n",
    "    if images is None:\n",
    "        continue\n",
    "    images= cv2.rotate(images, cv2.ROTATE_180)\n",
    "    images= cv2.flip(images, 0)\n",
    "    imageHash.append(dhash(images))\n",
    "\n",
    "#for images which are flipped about the x axis, we need to revert it back to the original state\n",
    "\n",
    "for file in glob.glob(r\"C:\\Users\\aryam\\aug_dogs\\f1@dog*.jpg\"):\n",
    "    images=cv2.imread(file)\n",
    "    if images is None:\n",
    "        continue\n",
    "    images= cv2.flip(images, 0)\n",
    "    imageHash.append(dhash(images))\n",
    "\n",
    "#for images which have some noise in them, we treate them seperately\n",
    "\n",
    "for file in glob.glob(r\"C:\\Users\\aryam\\aug_dogs\\n@dog*.jpg\"):\n",
    "    images=cv2.imread(file)\n",
    "    if images is None:\n",
    "        continue\n",
    "    imageHash.append(dhash(images))"
   ]
  },
  {
   "cell_type": "code",
   "execution_count": 4,
   "metadata": {},
   "outputs": [],
   "source": [
    "#sorting all the hashed images, finding duplicates and removing them from the list\n",
    "\n",
    "list2=sorted(imageHash)\n",
    "duplicates = Repeat(list2)\n",
    "final=[]\n",
    "for i in list2:\n",
    "    if i not in duplicates :\n",
    "      final.append(i)\n",
    "    \n",
    "#to report the final unique images, we add the duplicates back once\n",
    "\n",
    "for j in duplicates:\n",
    "    final.append(j)\n",
    "\n",
    "final=sorted(final)"
   ]
  },
  {
   "cell_type": "code",
   "execution_count": 5,
   "metadata": {},
   "outputs": [
    {
     "data": {
      "text/plain": [
       "2049"
      ]
     },
     "execution_count": 5,
     "metadata": {},
     "output_type": "execute_result"
    }
   ],
   "source": [
    "len(final)"
   ]
  }
 ],
 "metadata": {
  "kernelspec": {
   "display_name": "Python 3",
   "language": "python",
   "name": "python3"
  },
  "language_info": {
   "codemirror_mode": {
    "name": "ipython",
    "version": 3
   },
   "file_extension": ".py",
   "mimetype": "text/x-python",
   "name": "python",
   "nbconvert_exporter": "python",
   "pygments_lexer": "ipython3",
   "version": "3.8.3"
  }
 },
 "nbformat": 4,
 "nbformat_minor": 4
}
